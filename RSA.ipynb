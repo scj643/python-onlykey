{
  "cells": [
    {
      "cell_type": "code",
      "execution_count": 1,
      "metadata": {
        "collapsed": true,
        "pycharm": {
          "is_executing": false
        }
      },
      "outputs": [],
      "source": "import codecs\nfrom cryptography.hazmat.primitives.asymmetric import rsa\nfrom cryptography.hazmat.backends import default_backend\nfrom cryptography.hazmat.primitives import serialization\nfrom cryptography.hazmat.primitives.asymmetric import padding\nfrom cryptography.hazmat.primitives import hashes\nfrom onlykey.client import OnlyKey, Message, KeyFlags, RSATypeFlags\nimport logging\nimport time\nimport binascii\nfrom typing import Optional\n"
    },
    {
      "cell_type": "code",
      "execution_count": 12,
      "outputs": [],
      "source": "def bin2hex(bin_str):\n    return binascii.hexlify(bin_str)\n\n\ndef hex2bin(hex_str):\n    return binascii.unhexlify(hex_str)\n\ndef pack_long(n):\n    \"\"\"this convert 10045587143827198209824131064458461027107542643158086193488942239589004873324146472911535357118684101051965945865943581473431374244810144984918148150975257L\n    to \"\\xbf\\xcd\\xce\\xa0K\\x93\\x85}\\xf0\\x18\\xb3\\xd3L}\\x14\\xdb\\xce0\\x00uE,\\x05\u0027\\xeeW\\x1c\\xeb\\xcf\\x8b\\x1f\\xcc\\xc5\\xc1\\xe2\\x17\\xb7\\xa3\\xb6C\\x16\\xea?\\xcchz\\xebF1\\xb7\\xb1\\x86\\xb8\\n}\\x82\\xebx\\xce\\x1b\\x13\\xdf\\xdb\\x19\"\n    it seems to be want you wanted? it\u0027s 64 bytes.\n    \"\"\"\n    h \u003d b\u0027%x\u0027 % n\n    s \u003d codecs.decode((b\u00270\u0027 * (len(h) % 2) + h), \u0027hex\u0027)\n    return s\n\ndef get_button(byte):\n    ibyte \u003d ord(bytes([byte]))\n    if ibyte \u003c 6:\n        return 1\n    return ibyte % 5 + 1\n\ndef get_key_type(key_length):\n    if key_length \u003d\u003d 1024:\n        return RSATypeFlags.RSA1024\n    if key_length \u003d\u003d 2048:\n        return RSATypeFlags.RSA2048\n    if key_length \u003d\u003d 3072:\n        return RSATypeFlags.RSA3072\n    if key_length \u003d\u003d 4096:\n        return RSATypeFlags.RSA4096\n    \ndef get_pub_key_bytes(slot_num, loop_len\u003d20, check_size\u003d64, dev: OnlyKey \u003d None):\n    \"\"\"\n    Get the bytes of a public key on a given slot\n    :param slot_num: slot number to use\n    :param loop_len: How many times to check for bytes\n    :param check_size: how many bytes to check at a time.\n    :param dev: OnlyKey Device instance.\n    :return: bytes\n    \"\"\"\n    if dev is None :\n        dev \u003d ok\n    # Flush the buffer before reading\n    for _ in range(0, 10):\n        r \u003d dev.read_bytes(timeout_ms\u003d1000)\n        if r \u003d\u003d \u0027\u0027:\n            break\n    time.sleep(0.25)\n    dev.send_message(msg\u003dMessage.OKGETPUBKEY, payload\u003dchr(slot_num))\n    time.sleep(1.5)\n    pb_bytes \u003d []\n    for _ in range(loop_len):\n        b \u003d dev.read_bytes(check_size, timeout_ms\u003d1000)\n        if len(b) \u003d\u003d check_size:\n            pb_bytes +\u003d b\n        time.sleep(1)\n    return bytes(pb_bytes)\n\ndef has_pub_key(slot: int, dev: OnlyKey \u003d None):\n    \"\"\"\n    Checks if a slot has a pub key\n    :param slot: \n    :param dev: OnlyKey Device Instance\n    :return: True if any results\n    \"\"\"\n    b \u003d get_pub_key_bytes(slot_num\u003dslot, loop_len\u003d1, check_size\u003d15, dev\u003ddev)\n    print(b)\n    if b and b !\u003d b\u0027There is no RSA\u0027:\n        return True\n    else:\n        return False\n    \n",
      "metadata": {
        "pycharm": {
          "metadata": false,
          "name": "#%%\n",
          "is_executing": false
        }
      }
    },
    {
      "cell_type": "markdown",
      "source": "# Putting an RSA key on the Only Key\n\n## Generate a 2048 bit RSA key\n",
      "metadata": {
        "pycharm": {
          "metadata": false
        }
      }
    },
    {
      "cell_type": "code",
      "execution_count": 22,
      "outputs": [
        {
          "name": "stdout",
          "text": [
            "Key Created\n"
          ],
          "output_type": "stream"
        }
      ],
      "source": "priv_key \u003d rsa.generate_private_key(65537, 2048, default_backend())  # type: rsa.RSAPrivateKey\npub_key \u003d priv_key.public_key()  # type: rsa.RSAPublicKey\nprint(\u0027Key Created\u0027)\nhexPrivKey \u003d bin2hex(\n    priv_key.private_bytes(encoding\u003dserialization.Encoding.DER, format\u003dserialization.PrivateFormat.PKCS8,\n                           encryption_algorithm\u003dserialization.NoEncryption())\n)\nhexPubKey \u003d bin2hex(\n    pub_key.public_bytes(encoding\u003dserialization.Encoding.DER, format\u003dserialization.PublicFormat.PKCS1)\n)\n",
      "metadata": {
        "pycharm": {
          "metadata": false,
          "name": "#%%\n",
          "is_executing": false
        }
      }
    },
    {
      "cell_type": "markdown",
      "source": "## Combine q and p and get n",
      "metadata": {
        "pycharm": {
          "metadata": false,
          "name": "#%% md\n"
        }
      }
    },
    {
      "cell_type": "code",
      "execution_count": 23,
      "outputs": [
        {
          "name": "stdout",
          "text": [
            "Public N:  719280461088178644079555348502473014352995967116524321217127044572023386464852908236606413109555089080812714310988686758533416727973250716475370562460520880987888654863764239767423192291618303029156374023430237885165704563901921700214535706595215640376148005195307355743083202134246056194324152718294417389783451963882001792173282128576402517485617635887950702903320583799859912368851041437706910962729293822579687569680111343332917742527776734272022481910886085485924969646567750033773147228493936169307832733965652737714884869565335953657567756329232520404372616154214329421456084687345249194613315632619913355733210561698107853059722005107970614352571612349227158388066186810815379261399042215370240735613470701435574389286719094330239585258320402882431437565734167759112616202859716974266027980383698916822609365120740042456282719298845484967920097519266589884012285904383453821226406673880039726753388484817433777460675537243062437228941993480103009347816472144652824733362896103611601901407188205550223341344575321043424886927008389634168074730869047264641570749550134987467086613208184467958146369614443629432700114390455701793651362982972172650589812831080437600139518037688009783085825070662231511936493234990771327009414971\n"
          ],
          "output_type": "stream"
        }
      ],
      "source": "q_and_p \u003d pack_long(priv_key.private_numbers().q) + pack_long(priv_key.private_numbers().p)\n\npublic_n \u003d pack_long(pub_key.public_numbers().n)\nprint(\"Public N: \", pub_key.public_numbers().n)",
      "metadata": {
        "pycharm": {
          "metadata": false,
          "name": "#%%\n",
          "is_executing": false
        }
      }
    },
    {
      "cell_type": "markdown",
      "source": "## Send the key to the device\nYou need to put the device in config mode first.\nHold the 6 key for 5 seconds and release\n",
      "metadata": {
        "pycharm": {
          "metadata": false,
          "name": "#%% md\n"
        }
      }
    },
    {
      "cell_type": "markdown",
      "source": "Get a connection to the OnlyKey",
      "metadata": {
        "pycharm": {
          "metadata": false,
          "name": "#%% md\n"
        }
      }
    },
    {
      "cell_type": "code",
      "execution_count": 38,
      "outputs": [
        {
          "name": "stdout",
          "text": [
            "Connected\n"
          ],
          "output_type": "stream"
        }
      ],
      "source": "ok \u003d OnlyKey()\ntime.sleep(2)\nprint(\u0027Connected\u0027)\n",
      "metadata": {
        "pycharm": {
          "metadata": false,
          "name": "#%%\n",
          "is_executing": false
        }
      }
    },
    {
      "cell_type": "markdown",
      "source": "Get the type of key\n\n(For this demo we are marking it as a Signature, Authentication, and Decrytion key for testing)",
      "metadata": {
        "pycharm": {
          "metadata": false,
          "name": "#%% md\n"
        }
      }
    },
    {
      "cell_type": "code",
      "execution_count": 24,
      "outputs": [
        {
          "name": "stdout",
          "text": [
            "KeyFlags.SIGNATURE|DECRYPTION|AUTHENTICATION|KEYL4096\n"
          ],
          "output_type": "stream"
        }
      ],
      "source": "key_type \u003d get_key_type(priv_key.key_size) | KeyFlags.SIGNATURE | KeyFlags.AUTHENTICATION | KeyFlags.DECRYPTION\nprint(key_type)",
      "metadata": {
        "pycharm": {
          "metadata": false,
          "name": "#%%\n",
          "is_executing": false
        }
      }
    },
    {
      "cell_type": "markdown",
      "source": "Send the keys over\n\n(First check if there is a key)",
      "metadata": {
        "pycharm": {
          "metadata": false,
          "name": "#%% md\n"
        }
      }
    },
    {
      "cell_type": "code",
      "execution_count": 16,
      "outputs": [
        {
          "name": "stdout",
          "text": [
            "b\u0027\\xc1\\xdbJ\\x1e\\xd6\\xeb\\xe97\\xafQ\\xbb\"\\xf2\\x152\u0027\nKey 1 has key?:  True\n",
            "b\u0027There is no RSA\u0027\nKey 2 has key?:  False\n",
            "b\u0027\\xaf\u003dMD\\xb0\\xc0\\xb8\\x81\\xfb\\xa1\\xc4\\xb7\\r-J\u0027\nKey 3 has key?:  True\n",
            "b\u0027There is no RSA\u0027\nKey 4 has key?:  False\n"
          ],
          "output_type": "stream"
        }
      ],
      "source": "for i in range(1, 5):\n    print(\"Key {} has key?: \".format(i), has_pub_key(i))\n    ",
      "metadata": {
        "pycharm": {
          "metadata": false,
          "name": "#%%\n",
          "is_executing": false
        }
      }
    },
    {
      "cell_type": "code",
      "execution_count": 30,
      "outputs": [
        {
          "name": "stdout",
          "text": [
            "INITIALIZED\n"
          ],
          "output_type": "stream"
        }
      ],
      "source": "ok.send_large_message3(msg\u003dMessage.OKSETPRIV, slot_id\u003d3, key_type\u003dkey_type, payload\u003dlist(q_and_p))\ntime.sleep(10)\nprint(ok.read_string())\n",
      "metadata": {
        "pycharm": {
          "metadata": false,
          "name": "#%%\n",
          "is_executing": false
        }
      }
    },
    {
      "cell_type": "markdown",
      "source": "## Test Decryption",
      "metadata": {
        "pycharm": {
          "metadata": false,
          "name": "#%% md\n"
        }
      }
    },
    {
      "cell_type": "code",
      "execution_count": 54,
      "outputs": [],
      "source": "test_bytes \u003d b\"Hello World!\"\nslot \u003d 3\nencrypted \u003d pub_key.encrypt(test_bytes, padding.PKCS1v15())",
      "metadata": {
        "pycharm": {
          "metadata": false,
          "name": "#%%\n",
          "is_executing": false
        }
      }
    },
    {
      "cell_type": "code",
      "execution_count": 55,
      "outputs": [
        {
          "name": "stdout",
          "text": [
            "Challenge Pin:  (1, 3, 1)\n"
          ],
          "output_type": "stream"
        }
      ],
      "source": "def compute_challenge_pin(ciphertext: bytes):\n    h \u003d hashes.Hash(hashes.SHA256(), default_backend())\n    h.update(ciphertext)\n    d \u003d h.finalize()\n    \n    def get_button(byte):\n        ibyte \u003d ord(bytes([byte]))\n        if ibyte \u003c 6:\n            return 1\n        return ibyte % 5 + 1\n    return get_button(d[0]), get_button(d[15]), get_button(d[31])\n\nprint(\u0027Challenge Pin: \u0027, compute_challenge_pin(encrypted))\n",
      "metadata": {
        "pycharm": {
          "metadata": false,
          "name": "#%%\n",
          "is_executing": false
        }
      }
    },
    {
      "cell_type": "markdown",
      "source": "Send the payload to OnlyKey\n",
      "metadata": {
        "pycharm": {
          "metadata": false,
          "name": "#%% md\n"
        }
      }
    },
    {
      "cell_type": "code",
      "execution_count": 56,
      "outputs": [
        {
          "name": "stdout",
          "text": [
            "Please enter the 3 digit challenge code on OnlyKey (and press ENTER if necessary)\n"
          ],
          "output_type": "stream"
        }
      ],
      "source": "ok.send_large_message2(msg\u003dMessage.OKDECRYPT, payload\u003dlist(encrypted), slot_id\u003dslot)\nprint(\u0027Please enter the 3 digit challenge code on OnlyKey (and press ENTER if necessary)\u0027)\n",
      "metadata": {
        "pycharm": {
          "metadata": false,
          "name": "#%%\n",
          "is_executing": false
        }
      }
    },
    {
      "cell_type": "code",
      "execution_count": 57,
      "outputs": [
        {
          "name": "stdout",
          "text": [
            "Hello World!\n"
          ],
          "output_type": "stream"
        }
      ],
      "source": "ok_decrypted \u003d \u0027\u0027\nwhile ok_decrypted \u003d\u003d \u0027\u0027:\n    time.sleep(0.5)\n    ok_decrypted \u003d ok.read_string()\nprint(ok_decrypted)\n",
      "metadata": {
        "pycharm": {
          "metadata": false,
          "name": "#%%\n",
          "is_executing": false
        }
      }
    }
  ],
  "metadata": {
    "language_info": {
      "codemirror_mode": {
        "name": "ipython",
        "version": 2
      },
      "file_extension": ".py",
      "mimetype": "text/x-python",
      "name": "python",
      "nbconvert_exporter": "python",
      "pygments_lexer": "ipython2",
      "version": "2.7.6"
    },
    "kernelspec": {
      "name": "pycharm-9c07444",
      "language": "python",
      "display_name": "PyCharm (python-onlykey)"
    }
  },
  "nbformat": 4,
  "nbformat_minor": 0
}